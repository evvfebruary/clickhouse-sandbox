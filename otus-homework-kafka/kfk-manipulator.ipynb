{
 "cells": [
  {
   "cell_type": "code",
   "id": "initial_id",
   "metadata": {
    "collapsed": true,
    "ExecuteTime": {
     "end_time": "2024-08-04T13:27:58.322683Z",
     "start_time": "2024-08-04T13:27:58.204794Z"
    }
   },
   "source": [
    "import json\n",
    "import time\n",
    "import random\n",
    "from datetime import datetime\n",
    "from kafka import KafkaProducer\n",
    "\n",
    "# Kafka configuration\n",
    "KAFKA_BROKER = \"0.0.0.0:9094\"\n",
    "TOPIC = \"user-activities\"\n",
    "\n",
    "# Initialize Kafka producer\n",
    "producer = KafkaProducer(\n",
    "    bootstrap_servers=KAFKA_BROKER,\n",
    "    value_serializer=lambda v: json.dumps(v).encode('utf-8')\n",
    ")\n",
    "\n",
    "def generate_message():\n",
    "    timestamp = datetime.now().strftime('%Y-%m-%d %H:%M:%S')\n",
    "    return {\n",
    "        \"id\": random.randint(1, 1000),\n",
    "        \"name\": \"user_\" + str(random.randint(1, 100)),\n",
    "        \"timestamp\": timestamp,  # Ensure ISO format for timestamp\n",
    "        \"active\": random.choice([True, False]),\n",
    "        \"value\": round(random.uniform(1.0, 100.0), 2)\n",
    "    }"
   ],
   "outputs": [],
   "execution_count": 52
  },
  {
   "metadata": {
    "ExecuteTime": {
     "end_time": "2024-08-04T13:27:58.528336Z",
     "start_time": "2024-08-04T13:27:58.524798Z"
    }
   },
   "cell_type": "code",
   "source": [
    "message = generate_message()\n",
    "producer.send(TOPIC, message)\n",
    "print(f\"Sent: {message}\")"
   ],
   "id": "94ef31bea3c0f816",
   "outputs": [
    {
     "name": "stdout",
     "output_type": "stream",
     "text": [
      "Sent: {'id': 840, 'name': 'user_22', 'timestamp': '2024-08-04 16:27:58', 'active': True, 'value': 17.04}\n"
     ]
    }
   ],
   "execution_count": 53
  },
  {
   "metadata": {},
   "cell_type": "markdown",
   "source": "",
   "id": "e1fdd5f005a65fb1"
  },
  {
   "metadata": {
    "ExecuteTime": {
     "end_time": "2024-08-04T12:32:24.884854Z",
     "start_time": "2024-08-04T12:32:24.458785Z"
    }
   },
   "cell_type": "code",
   "source": [
    "from kafka.admin import KafkaAdminClient, NewTopic\n",
    "\n",
    "\n",
    "admin_client = KafkaAdminClient(\n",
    "    bootstrap_servers=\"0.0.0.0:9094\", \n",
    "    client_id='test'\n",
    ")\n",
    "\n",
    "topic_list = []\n",
    "topic_list.append(NewTopic(name=\"user-activities\", num_partitions=3, replication_factor=1))\n",
    "admin_client.create_topics(new_topics=topic_list, validate_only=False)"
   ],
   "id": "cd34c3be574f01d0",
   "outputs": [
    {
     "data": {
      "text/plain": [
       "CreateTopicsResponse_v3(throttle_time_ms=0, topic_errors=[(topic='user-activities', error_code=0, error_message=None)])"
      ]
     },
     "execution_count": 15,
     "metadata": {},
     "output_type": "execute_result"
    }
   ],
   "execution_count": 15
  },
  {
   "metadata": {
    "ExecuteTime": {
     "end_time": "2024-08-04T13:55:24.304535Z",
     "start_time": "2024-08-04T13:55:24.220821Z"
    }
   },
   "cell_type": "code",
   "source": [
    "topic_list = []\n",
    "topic_list.append(NewTopic(name=\"user-activities-out\", num_partitions=3, replication_factor=1))\n",
    "admin_client.create_topics(new_topics=topic_list, validate_only=False)"
   ],
   "id": "32cfdb56bd856c9d",
   "outputs": [
    {
     "data": {
      "text/plain": [
       "CreateTopicsResponse_v3(throttle_time_ms=0, topic_errors=[(topic='user-activities-out', error_code=0, error_message=None)])"
      ]
     },
     "execution_count": 54,
     "metadata": {},
     "output_type": "execute_result"
    }
   ],
   "execution_count": 54
  },
  {
   "metadata": {
    "jupyter": {
     "is_executing": true
    },
    "ExecuteTime": {
     "start_time": "2024-08-04T13:58:55.050280Z"
    }
   },
   "cell_type": "code",
   "source": [
    "from kafka import KafkaConsumer\n",
    "\n",
    "consumer = KafkaConsumer(\n",
    "    'user-activities-out',\n",
    "    bootstrap_servers=KAFKA_BROKER,\n",
    "    auto_offset_reset='earliest',  # Start reading at the earliest message\n",
    "    enable_auto_commit=True,\n",
    "    group_id='my-group',  # Consumer group ID\n",
    "    value_deserializer=lambda x: json.loads(x.decode('utf-8'))\n",
    ")\n",
    "\n",
    "print(f\"Consuming messages from topic: {TOPIC}\")\n",
    "\n",
    "# Consume messages from the topic\n",
    "for message in consumer:\n",
    "    print(f\"Received message: {message.value}\")"
   ],
   "id": "28e71e25285de255",
   "outputs": [
    {
     "name": "stdout",
     "output_type": "stream",
     "text": [
      "Consuming messages from topic: user-activities\n"
     ]
    }
   ],
   "execution_count": null
  },
  {
   "metadata": {},
   "cell_type": "code",
   "outputs": [],
   "execution_count": null,
   "source": "",
   "id": "cc16c6844cdd5a51"
  }
 ],
 "metadata": {
  "kernelspec": {
   "display_name": "Python 3",
   "language": "python",
   "name": "python3"
  },
  "language_info": {
   "codemirror_mode": {
    "name": "ipython",
    "version": 2
   },
   "file_extension": ".py",
   "mimetype": "text/x-python",
   "name": "python",
   "nbconvert_exporter": "python",
   "pygments_lexer": "ipython2",
   "version": "2.7.6"
  }
 },
 "nbformat": 4,
 "nbformat_minor": 5
}
